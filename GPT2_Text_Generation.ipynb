{
  "nbformat": 4,
  "nbformat_minor": 0,
  "metadata": {
    "colab": {
      "provenance": []
    },
    "kernelspec": {
      "name": "python3",
      "display_name": "Python 3"
    },
    "language_info": {
      "name": "python"
    },
    "accelerator": "GPU",
    "gpuClass": "standard"
  },
  "cells": [
    {
      "cell_type": "code",
      "execution_count": null,
      "metadata": {
        "id": "sXEJd3ZTGkwG"
      },
      "outputs": [],
      "source": [
        "!pip install transformers"
      ]
    },
    {
      "cell_type": "code",
      "source": [
        "from transformers import GPT2LMHeadModel,GPT2Tokenizer"
      ],
      "metadata": {
        "id": "JEWBDYWyGuam"
      },
      "execution_count": 2,
      "outputs": []
    },
    {
      "cell_type": "markdown",
      "source": [
        "# 1. Load Model"
      ],
      "metadata": {
        "id": "Pm4bIJVUG4Ui"
      }
    },
    {
      "cell_type": "code",
      "source": [
        "tokenizer = GPT2Tokenizer.from_pretrained('gpt2-large')\n",
        "model = GPT2LMHeadModel.from_pretrained('gpt2-large',pad_token_id=tokenizer.eos_token_id)"
      ],
      "metadata": {
        "id": "TYGvCHtgHEJ6"
      },
      "execution_count": null,
      "outputs": []
    },
    {
      "cell_type": "markdown",
      "source": [
        "# 2. Tokenize Sentence"
      ],
      "metadata": {
        "id": "ZWnDThhoHWWC"
      }
    },
    {
      "cell_type": "code",
      "source": [
        "sentence = 'I like Ice Cream'\n",
        "input_ids = tokenizer.encode(sentence,return_tensors='pt')"
      ],
      "metadata": {
        "id": "F1iHpZYlHv4h"
      },
      "execution_count": 5,
      "outputs": []
    },
    {
      "cell_type": "code",
      "source": [
        "input_ids"
      ],
      "metadata": {
        "colab": {
          "base_uri": "https://localhost:8080/"
        },
        "id": "NNBMHwk_H5i3",
        "outputId": "fb58ee7d-2c3f-4437-caf5-ed5ba2c4bf92"
      },
      "execution_count": 6,
      "outputs": [
        {
          "output_type": "execute_result",
          "data": {
            "text/plain": [
              "tensor([[   40,   588,  6663, 19979]])"
            ]
          },
          "metadata": {},
          "execution_count": 6
        }
      ]
    },
    {
      "cell_type": "code",
      "source": [
        "tokenizer.decode(input_ids[0])"
      ],
      "metadata": {
        "colab": {
          "base_uri": "https://localhost:8080/",
          "height": 35
        },
        "id": "xDV8MdYCH69e",
        "outputId": "746886f4-eea3-4733-f2cb-a7be2a22c273"
      },
      "execution_count": 9,
      "outputs": [
        {
          "output_type": "execute_result",
          "data": {
            "text/plain": [
              "'I like Ice Cream'"
            ],
            "application/vnd.google.colaboratory.intrinsic+json": {
              "type": "string"
            }
          },
          "metadata": {},
          "execution_count": 9
        }
      ]
    },
    {
      "cell_type": "markdown",
      "source": [
        "# 3. Generate and Decode Text"
      ],
      "metadata": {
        "id": "F2cmMP8cIDld"
      }
    },
    {
      "cell_type": "code",
      "source": [
        "output = model.generate(input_ids,max_length = 100,num_beams=5,no_repeat_ngram_size=2,early_stopping=True)"
      ],
      "metadata": {
        "id": "BA1Yu4Q5IRvo"
      },
      "execution_count": 10,
      "outputs": []
    },
    {
      "cell_type": "code",
      "source": [
        "tokenizer.decode(output[0],skip_special_tokens=True)"
      ],
      "metadata": {
        "colab": {
          "base_uri": "https://localhost:8080/",
          "height": 125
        },
        "id": "Gtw0mbvJIdM0",
        "outputId": "55af3ed5-6e80-4bf7-9d5d-6fe22dd73715"
      },
      "execution_count": 11,
      "outputs": [
        {
          "output_type": "execute_result",
          "data": {
            "text/plain": [
              "\"I like Ice Cream Sandwich, but I don't like it as much as I thought I would. It's not that I dislike it, it's just that it doesn't feel quite right to me. I'm not sure if I'll ever be able to get used to it.\\n\\nI'm sure there are plenty of people out there who will love this new version of Android. But for me, I just can't get over the fact that Android 4.0 feels so different from the\""
            ],
            "application/vnd.google.colaboratory.intrinsic+json": {
              "type": "string"
            }
          },
          "metadata": {},
          "execution_count": 11
        }
      ]
    },
    {
      "cell_type": "markdown",
      "source": [
        "# 4. Output"
      ],
      "metadata": {
        "id": "L1P9TrQ8I0Ge"
      }
    },
    {
      "cell_type": "code",
      "source": [
        "text = tokenizer.decode(output[0],skip_special_tokens=True)"
      ],
      "metadata": {
        "id": "xd8y43lBJGgy"
      },
      "execution_count": 12,
      "outputs": []
    },
    {
      "cell_type": "code",
      "source": [
        "with open('blogpostGPT2.txt','w') as f:\n",
        "  f.write(text)"
      ],
      "metadata": {
        "id": "QgbxgLPNJIBQ"
      },
      "execution_count": 13,
      "outputs": []
    },
    {
      "cell_type": "code",
      "source": [],
      "metadata": {
        "id": "bK43odfUJOKL"
      },
      "execution_count": null,
      "outputs": []
    }
  ]
}